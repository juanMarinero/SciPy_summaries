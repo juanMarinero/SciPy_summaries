{
 "cells": [
  {
   "cell_type": "markdown",
   "metadata": {},
   "source": [
    "# Numpy\n",
    "\n",
    "Juan G. Marinero Tarazona"
   ]
  },
  {
   "cell_type": "code",
   "execution_count": 1,
   "metadata": {},
   "outputs": [],
   "source": [
    "import numpy as np\n",
    "import pandas as pd\n",
    "import matplotlib.pyplot as plt\n",
    "import matplotlib as mpl\n",
    "import seaborn as sns\n",
    "\n",
    "%matplotlib inline\n",
    "plt.style.use('seaborn-whitegrid')"
   ]
  },
  {
   "cell_type": "markdown",
   "metadata": {},
   "source": [
    "# Summary"
   ]
  },
  {
   "cell_type": "code",
   "execution_count": 2,
   "metadata": {},
   "outputs": [
    {
     "name": "stdout",
     "output_type": "stream",
     "text": [
      "** Quick check **\n",
      "\n"
     ]
    }
   ],
   "source": [
    "print('** Quick check **\\n')\n",
    "if 0:\n",
    "    x = np.random.randint(10, size=(3, 4, 5))  # Three-dimensional array\n",
    "    print(\"x ndim: \", x.ndim)  # 3\n",
    "    print(\"x shape:\", x.shape) # (3, 4, 5)\n",
    "    print(\"x size: \", x.size)  # 60 (=3*4*5)\n",
    "    print(\"dtype:\",   x.dtype) # int64\n",
    "    print(\"itemsize:\", x.itemsize, \"bytes\") # 8 bytes\n",
    "    print(\"nbytes:\",   x.nbytes,   \"bytes\") # 480 (= x.size * x.itemsize)\n",
    "    x = np.array([1,np.NaN,3,np.NaN])\n",
    "    if np.isnan(np.sum(x)) == True: print(f\"Following index have NaN: {np.isnan(x)}\")"
   ]
  },
  {
   "cell_type": "code",
   "execution_count": 3,
   "metadata": {},
   "outputs": [
    {
     "name": "stdout",
     "output_type": "stream",
     "text": [
      "** matrix **\n",
      "\n"
     ]
    }
   ],
   "source": [
    "print('** matrix **\\n')\n",
    "#/home/xopi/Desktop/IT_xopi/Python/Books/A_basic_python/DataTypes_list.py\n",
    "x = np.array([[1,0,0],[1,1,0],[1,1,1]])\n",
    "if 0:\n",
    "    print(x,'\\n') # outputs: [[1, 0, 0], [1, 1, 0], [1, 1, 1]]\n",
    "    print(f\"transpose: \\n{x.T}\\n\")\n",
    "    print(f\"inverse: \\n{np.invert(x)}\\n\") # \n",
    "    print(f\"dot product:    \\n{x.dot(x)}\\n\")\n",
    "    print(f\"matrix product: \\n{np.matmul(x, x)}\")"
   ]
  },
  {
   "cell_type": "code",
   "execution_count": 4,
   "metadata": {},
   "outputs": [
    {
     "name": "stdout",
     "output_type": "stream",
     "text": [
      "** select Row Or Column **\n",
      "\n"
     ]
    }
   ],
   "source": [
    "print('** select Row Or Column **\\n')\n",
    "if 0:\n",
    "    x = np.random.randint(10, size=(3, 4))\n",
    "    print(f'x: \\n{x}')\n",
    "\n",
    "    print('\\n# Select ROWs\\n')\n",
    "    print(f'·x[0]:      {x[0]}')\n",
    "    print(f'·x[0,:]:    {x[0,:]}')    # equivalent to x[0]\n",
    "    print(f'·x[0,0:-1]: {x[0,0:-1]}') # equivalent to x[0]\n",
    "    print(f'·x[0:2]: \\n{x[0:2]}')\n",
    "    try: print(f'x.iloc[0:2]: \\n{x.iloc[0:2]}')\n",
    "    except Exception as e: print(f\"Error on x.iloc[0:2]:\\t {e}\")\n",
    "        \n",
    "    print('\\n# Select COLUMNs\\n')\n",
    "    print(f'·x[:,0]: {x[:,0]}')\n",
    "    print(f'·x[:,0:2]: \\n{x[:,0:2]}')\n",
    "    \n",
    "    print('\\n# Mix ROWs-COLUMNs selection\\n')\n",
    "    print(f'·x[-1,-1]: {x[-1,-1]}')\n",
    "    print(f'·x[[0,0,-1],[1,1,2]]: {x[[0,0,-1],[1,1,2]]}')\n",
    "    print(f'·x[[0,-1],0:2]: \\n{x[[0,-1],0:2]}')\n",
    "    print(f'·x[0:2,0:2]: \\n{x[0:2,0:2]}')\n",
    "    print(f'·x[::-1,:]: \\n{x[::-1,:]}')\n",
    "    print(f'·x[::-1,::-1]: \\n{x[::-1,::-1]}')\n",
    "    print(f'·x[::2,1::2]: \\n{x[::2,1::2]}')"
   ]
  },
  {
   "cell_type": "code",
   "execution_count": 5,
   "metadata": {},
   "outputs": [
    {
     "name": "stdout",
     "output_type": "stream",
     "text": [
      "** zeros ones eye empty full **\n",
      "\n"
     ]
    }
   ],
   "source": [
    "print('** zeros ones eye empty full **\\n')\n",
    "if 0:\n",
    "    x = np.zeros(10, dtype=int);     print(x) # outputs: array([0, 0, 0, 0, 0, 0, 0, 0, 0, 0])\n",
    "    x = np.ones((3,5), dtype=float); print(x) # outputs: array([[1., 1., 1., 1., 1.], [1., 1., 1., 1., 1.], [1., 1., 1., 1., 1.]])\n",
    "    x = np.eye(3);                   print(x) # outputs: array([[1., 0., 0.], [0., 1., 0.], [0., 0., 1.]])\n",
    "    x = np.empty(3);                 print(x) # Create an uninitialized array of three integers # The values will be whatever happens to already exist at that memory location\n",
    "    x = np.full((3, 5), 3.14);       print(x) # 3x5 array filled with 3.14\n"
   ]
  },
  {
   "cell_type": "code",
   "execution_count": 6,
   "metadata": {},
   "outputs": [
    {
     "name": "stdout",
     "output_type": "stream",
     "text": [
      "** array: random **\n",
      "\n"
     ]
    }
   ],
   "source": [
    "print('** array: random **\\n')\n",
    "if 0:\n",
    "    rng = np.random.RandomState(42)\n",
    "    x = 10 * rng.rand(5)                ; print(x)\n",
    "    x = np.random.random((3, 3))        ; print(x) # uniformly distributed random values between 0 and 1\n",
    "    x = np.random.normal(0, 1, (3, 3))  ; print(x) # normally distributed random values with mean 0 and standard deviation 1\n",
    "    x = np.random.randn(3,3)            ; print(x) # \"\"\n",
    "    x = np.random.randint(0, 10, (3, 3)); print(x) # random integers in the interval [0, 10)\n",
    "    # df = pd.DataFrame(np.random.randint(10, size=(3,4)),columns='A B C D'.split(),index=['i' + str(x) for x in range(3)])\n",
    "    "
   ]
  },
  {
   "cell_type": "code",
   "execution_count": 7,
   "metadata": {},
   "outputs": [
    {
     "name": "stdout",
     "output_type": "stream",
     "text": [
      "** array: linspace **\n",
      "\n"
     ]
    }
   ],
   "source": [
    "print('** array: linspace **\\n')\n",
    "if 0:\n",
    "    try: x = list(range(0, 1, 0.1)) # range() not aimed for floats\n",
    "    except Exception as e: print(f'Error: {e}\\n')\n",
    "\n",
    "    x = np.arange(0.0, 1.0, 0.1);          print(x) # outputs: [0.  0.1 0.2 0.3 0.4 0.5 0.6 0.7 0.8 0.9]\n",
    "    x = np.linspace(0,1,11);               print(x) # outputs: [0.  0.1 0.2 0.3 0.4 0.5 0.6 0.7 0.8 0.9 1. ]\n",
    "    x = np.linspace(0,1,10,endpoint=False);print(x) # outputs: [0.  0.1 0.2 0.3 0.4 0.5 0.6 0.7 0.8 0.9]\n",
    "    x = [x * 0.1 for x in range(10)];      print(x) # outputs: [0.0, 0.1, 0.2, 0.30000000000000004, 0.4, 0.5, 0.6000000000000001, 0.7000000000000001, 0.8, 0.9]\n",
    "    x = np.logspace(0, 10, 10, base=np.e); print(x) # outputs: [  1.00000000e+00,   3.03773178e+00,   9.22781435e+00, ...]\n",
    "    print()\n",
    "\n",
    "    x = np.array([1, 4, 2, 5, 3]);              print(x) # outputs: array([1, 4, 2, 5, 3]) # default type is 'i' \n",
    "    x = np.array([1, 4, 2, 5, 3], dtype='int'); print(x) # outputs: \"\"\n",
    "    x = np.array([3.14, 4, 2, 3]);              print(x) # outputs: array([3.14, 4.  , 2.  , 3.  ]) # at least 1 cell is float, thus all are up-casted to floats\n",
    "    x = np.array(list(range(1,5)), dtype='float32'); print(x) # outputs: array([1., 2., 3., 4.], dtype=float32) # explicitly set data type \n",
    "    import array\n",
    "    x = array.array('f', range(3)); print(x) # outputs: array('f', [0.0, 1.0, 2.0]) #'f' stands for float\n",
    "    \n",
    "    # nested lists result in multi-dimensional arrays\n",
    "    x = np.array([range(i, i + 4) for i in [2, 4, 6]]); print(x) # outputs: [[2 3 4 5] [4 5 6 7] [6 7 8 9]]# Nrows is size of [2, 4, 6]; Ncolumns is i+4-i (from range(i, i + 4))\n"
   ]
  },
  {
   "cell_type": "code",
   "execution_count": 8,
   "metadata": {},
   "outputs": [
    {
     "name": "stdout",
     "output_type": "stream",
     "text": [
      "** ndarray **\n",
      "\n"
     ]
    }
   ],
   "source": [
    "print('** ndarray **\\n')\n",
    "# https://docs.scipy.org/doc/numpy-1.15.0/reference/generated/numpy.ndarray.html\n",
    "if 0:\n",
    "    print('buffer : object exposing buffer interface, optional.')\n",
    "    x = np.ndarray((1,2),                               dtype=float); print(x) # outputs: random each time\n",
    "    x = np.ndarray((1,2), buffer=np.array([[2.1],[0]]), dtype=float); print(x) # outputs: [[2.1 0. ]]\n",
    "       \n",
    "    print('\\norder : {‘C’, ‘F’}, optional. Row-major (C-style) or column-major (Fortran-style) order.')\n",
    "    x = np.ndarray((2,2), buffer=np.array([[2.1,1],[0,3]], order='F'), dtype=float); print(x) # [[2.1 0. ] [1.  3. ]]\n",
    "    x = np.ndarray((2,2), buffer=np.array([[2.1,1],[0,3]], order='C'), dtype=float); print(x) # [[2.1 1. ] [0.  3. ]]\n",
    "    \n",
    "    print('\\noffset : int, optional. Offset of array data in buffer.')\n",
    "    # offset = 1*itemsize, i.e. skip first element\n",
    "    x = np.ndarray((2,), buffer=np.array([1,2,3]), offset=np.int_().itemsize, dtype=int); print(x) # [2 3]\n",
    "if 0:\n",
    "    print('The ndarray are fixed-size items:')\n",
    "    x = np.ndarray((1,2), dtype=float); print(f'x.shape: {x.shape}')\n",
    "    print('Reshape   compatible sizes:',end='\\t')\n",
    "    try: x.reshape(2,1); print(f'x.shape: {x.shape}. No error, just the reshape method is avoided.')\n",
    "    except Exception as e: print(f'Error: {e}\\n') # exception does NOT happen, neither does reshape method act\n",
    "    print('Reshape INcompatible sizes:',end='\\t')\n",
    "    try: x.reshape(3,1)\n",
    "    except Exception as e: print(f'Error: {e}\\n') # Error: cannot reshape array of size 2 into shape (3,1)"
   ]
  },
  {
   "cell_type": "markdown",
   "metadata": {},
   "source": [
    "The type can be specified using a string: \n",
    "```python\n",
    "np.zeros(10, dtype='int16')\n",
    "```\n",
    "\n",
    "Or using the associated NumPy object:\n",
    "```python\n",
    "np.zeros(10, dtype=np.int16)\n",
    "```\n",
    "| Data type\t    | Description |\n",
    "|---------------|-------------|\n",
    "| ``bool_``     | Boolean (True or False) stored as a byte |\n",
    "| ``int_``      | Default integer type (same as C ``long``; normally either ``int64`` or ``int32``)| \n",
    "| ``intc``      | Identical to C ``int`` (normally ``int32`` or ``int64``)| \n",
    "| ``intp``      | Integer used for indexing (same as C ``ssize_t``; normally either ``int32`` or ``int64``)| \n",
    "| ``int8``      | Byte (-128 to 127)| \n",
    "| ``int16``     | Integer (-32768 to 32767)|\n",
    "| ``int32``     | Integer (-2147483648 to 2147483647)|\n",
    "| ``int64``     | Integer (-9223372036854775808 to 9223372036854775807)| \n",
    "| ``uint8``     | Unsigned integer (0 to 255)| \n",
    "| ``uint16``    | Unsigned integer (0 to 65535)| \n",
    "| ``uint32``    | Unsigned integer (0 to 4294967295)| \n",
    "| ``uint64``    | Unsigned integer (0 to 18446744073709551615)| \n",
    "| ``float_``    | Shorthand for ``float64``.| \n",
    "| ``float16``   | Half precision float: sign bit, 5 bits exponent, 10 bits mantissa| \n",
    "| ``float32``   | Single precision float: sign bit, 8 bits exponent, 23 bits mantissa| \n",
    "| ``float64``   | Double precision float: sign bit, 11 bits exponent, 52 bits mantissa| \n",
    "| ``complex_``  | Shorthand for ``complex128``.| \n",
    "| ``complex64`` | Complex number, represented by two 32-bit floats| \n",
    "| ``complex128``| Complex number, represented by two 64-bit floats| "
   ]
  },
  {
   "cell_type": "code",
   "execution_count": 9,
   "metadata": {},
   "outputs": [
    {
     "name": "stdout",
     "output_type": "stream",
     "text": [
      "** subarray vs copy**\n",
      "\n"
     ]
    }
   ],
   "source": [
    "print('** subarray vs copy**\\n')\n",
    "if 0:\n",
    "    print('Subarray:')\n",
    "    x = np.arange(3)\n",
    "    x_sliced = x[:2]\n",
    "    print(f\"x:        {x}\")        # [0 1 2]\n",
    "    print(f\"x_sliced: {x_sliced}\") # [0 1]\n",
    "\n",
    "    print(\"If we modify this subarray (x_sliced[0]=99), we'll see that the original array is changed!\")\n",
    "    x_sliced[0]=99\n",
    "    print(f\"x:        {x}\")          # [99  1  2]\n",
    "    print(f\"x_sliced: {x_sliced}\\n\") # [99  1]\n",
    "\n",
    "    print('Array COPY:')\n",
    "    x_copy = x[:2].copy()\n",
    "    print(\"If we modify this subarray (x_copy[-1]=99), we'll see that the original array is NOT changed!\")\n",
    "    x_copy[-1]=99\n",
    "    print(f\"x:      {x}\")        # [99  1  2]\n",
    "    print(f\"x_copy: {x_copy}\\n\") # [99 99]"
   ]
  },
  {
   "cell_type": "code",
   "execution_count": 10,
   "metadata": {},
   "outputs": [
    {
     "name": "stdout",
     "output_type": "stream",
     "text": [
      "** reshape **\n",
      "\n"
     ]
    }
   ],
   "source": [
    "print('** reshape **\\n')\n",
    "# ** convert from/to 1D **\n",
    "\n",
    "if 0:\n",
    "    print('** array transpose **')\n",
    "    x = np.arange(0.0, 1.0, 0.1); \n",
    "    print(x.shape) # outputs: (10,)\n",
    "    print('(n_rows,) to (1,n_rows):') # np.newaxis adds a dimension\n",
    "    # x = np.transpose(x) # does NOT change (n_rows,) shape (traspose of 1D is 1D, we must 1st add a dimension: np.newaxis)\n",
    "    # x = x[:, np.newaxis]; print(x.shape); # (10, 1) instead of (10,), i.e. 2D instead 1D\n",
    "    x = x[np.newaxis, :] # OR x = x[:, np.newaxis] to make x.shape (10,1)\n",
    "    print(x.shape)  # outputs: (1,10)\n",
    "    print('row to column:')\n",
    "    x = np.transpose(x)\n",
    "    print(x.shape)  # outputs: (10,1)\n",
    "    print('column to row:')\n",
    "    x = np.transpose(x)\n",
    "    print(x.shape,'\\n') # outputs: (1,10)\n",
    "if 0:\n",
    "    print('** array from creation dimensions **')\n",
    "    print(np.arange(0.0, 1.0, 0.1).shape)                         # outputs: (10,)\n",
    "    print(np.arange(0.0, 1.0, 0.1)[:,          None      ].shape) # outputs: (10,1)\n",
    "    print(np.arange(0.0, 1.0, 0.1)[:,          np.newaxis].shape) # outputs: (10,1)\n",
    "    print(np.arange(0.0, 1.0, 0.1)[None,       :         ].shape) # outputs: (1,10)\n",
    "    print(np.arange(0.0, 1.0, 0.1)[np.newaxis, :         ].shape) # outputs: (1,10)\n",
    "if 0:\n",
    "    print('** 2D transpose **')\n",
    "    x = np.arange(6).reshape((2,3))\n",
    "    print(x.shape)      # outputs: (2,3)\n",
    "    x = np.transpose(x)\n",
    "    print(x.shape,'\\n') # outputs: (3,2)\n",
    "if 0:\n",
    "    print('** converto to 1D **')\n",
    "    x = np.arange(12).reshape(2,3,2).swapaxes(1,2);\n",
    "    print(x)\n",
    "    # ravel(order=order) is equivalent to reshape(-1, order=order)\n",
    "    print('x.ravel().shape: ',{x.ravel().shape}) # By default, ‘C’ index order is used.\n",
    "    print('C: ', x.ravel(order='C')) # ‘C’ means C-style order, with the last axis index changing fastest, back to the first axis index changing slowest\n",
    "    print('F: ', x.ravel(order='F')) # ‘F’ means Fortran-style order, with the first index changing fastest, and the last index changing slowest\n",
    "    print('A: ', x.ravel(order='A')) # ‘A’ means to read the elements in Fortran-like index order if a is Fortran contiguous in memory, C-like order otherwise\n",
    "    print('K: ', x.ravel(order='K')) # ‘K’ means to read the elements in the order they occur in memory, except for reversing the data when strides are negative.\n",
    "    print('reshape(-1): ', x.reshape(-1))\n",
    "    print(x.reshape(-1).shape) \n"
   ]
  },
  {
   "cell_type": "code",
   "execution_count": 11,
   "metadata": {},
   "outputs": [
    {
     "name": "stdout",
     "output_type": "stream",
     "text": [
      "** concatenate **\n",
      "\n"
     ]
    }
   ],
   "source": [
    "print('** concatenate **\\n')\n",
    "if 0:\n",
    "    x2D = np.array([[1, 1, 1],[0, 0, 0]])\n",
    "    print(f\"x2D: \\n{x2D}\")\n",
    "    print(f\"x2D.shape: {x2D.shape}\\n\")\n",
    "\n",
    "    print(\"* 2D vertical concatenate: row-wise merging *\")\n",
    "    print(f\"np.concatenate([x2D, x2D], axis=0): \\n{np.concatenate([x2D, x2D], axis=0)}\")\n",
    "    print(f\"np.vstack([x2D, x2D]):              \\n{np.vstack([x2D, x2D])}\")\n",
    "    print(f\"np.r_[x2D, x2D]:                    \\n{np.r_[x2D, x2D]}\\n\") # r_ from row-wise merging\n",
    "    # np.r_() is actually much more powerful, check: https://docs.scipy.org/doc/numpy/reference/generated/numpy.r_.html\n",
    "\n",
    "    print(\"* 2D horizontal concatenate: column-wise merging *\")\n",
    "    print(f\"np.concatenate([x2D, x2D], axis=1): \\n{np.concatenate([x2D, x2D], axis=1)}\")\n",
    "    print(f\"np.hstack([x2D, x2D]):              \\n{np.hstack([x2D, x2D])}\")\n",
    "    print(f\"np.r_['-1,2,0', x2D, x2D]:          \\n{np.r_['-1,2,0', x2D, x2D]}\")\n",
    "    print(f\"np.c_[x2D, x2D]:                    \\n{np.c_[x2D, x2D]}\\n\") # c_ from column-wise merging\n",
    "\n",
    "    x3D = np.array([x2D,x2D]);\n",
    "    print(f\"x3D: \\n{x3D}\")\n",
    "    print(f\"x3D.shape: {x3D.shape}\\n\")\n",
    "\n",
    "    print(\"* 3D concatenate *\")\n",
    "    print(f\"np.concatenate([x3D, x3D], axis=2).shape: {np.concatenate([x3D, x3D], axis=2).shape}\")\n",
    "    print(f\"np.concatenate([x3D, x3D], axis=2):     \\n{np.concatenate([x3D, x3D], axis=2)}\")\n",
    "    print(f\"np.dstack([x3D, x3D]).shape: {np.dstack([x3D, x3D]).shape}\")\n",
    "    print(f\"np.dstack([x3D, x3D]):     \\n{np.dstack([x3D, x3D])}\")"
   ]
  },
  {
   "cell_type": "code",
   "execution_count": 12,
   "metadata": {},
   "outputs": [
    {
     "name": "stdout",
     "output_type": "stream",
     "text": [
      "** split **\n",
      "\n"
     ]
    }
   ],
   "source": [
    "print('** split **\\n')\n",
    "if 0:\n",
    "    x1D = np.random.randint(10,size=[7])\n",
    "    print(f\"x1D: {x1D}\")\n",
    "    print(f\"x1D.shape: {x1D.shape}\")\n",
    "    x1, x2, x3 = np.split(x1D, [3, 5], axis=0)\n",
    "    x1b, x2b, x3b = np.hsplit(x1D, [3, 5])\n",
    "    print(f\"x1, x2, x3    = np.split(x1D, [3, 5], axis=0):\") # x1 = x[:3]; x2 = x[3:5]; x3 = x[5:]\n",
    "    print(f\"x1b, x2b, x3b = np.hsplit(x1D, [3, 5]):\")\n",
    "    print(f\"[x1,x2,x3]:    {[x1,x2,x3]}\")\n",
    "    print(f\"[x1b,x2b,x3b]: {[x1b,x2b,x3b]}\\n\")\n",
    "\n",
    "    x1D = x1D[:, np.newaxis]\n",
    "    print(f\"x1D.T: {x1D.T}\")\n",
    "    print(f\"x1D.shape: {x1D.shape}\")\n",
    "    x1, x2, x3 = np.split(x1D, [3, 5], axis=0)\n",
    "    x1b, x2b, x3b = np.vsplit(x1D, [3, 5])\n",
    "    print(f\"x1, x2, x3    = np.split(x1D, [3, 5], axis=0):\") # x1 = x[:3]; x2 = x[3:5]; x3 = x[5:]\n",
    "    print(f\"x1b, x2b, x3b = np.vsplit(x1D, [3, 5]):\")\n",
    "    print(f\"[x1.T,x2.T,x3.T]:    {[x1.T,x2.T,x3.T]}\");\n",
    "    print(f\"[x1b.T,x2b.T,x3b.T]: {[x1b.T,x2b.T,x3b.T]}\\n\")\n",
    "if 0:\n",
    "    x2D = np.arange(14).reshape(7,2)\n",
    "    print(f\"·x2D: \\n{x2D}\")\n",
    "    print(f\"·x2D.shape: {x2D.shape}\\n\")\n",
    "\n",
    "    x1, x2, x3    = np.split(x2D, [3, 5], axis=0)\n",
    "    x1b, x2b, x3b = np.vsplit(x2D, [3, 5])\n",
    "    print(f\"x1, x2, x3 = np.split(x2D, [3, 5], axis=0):\")\n",
    "    print(f\"x1b, x2b, x3b = np.vsplit(x2D, [3, 5]):\")\n",
    "    print(f\"·x1: \\n{x1}\")\n",
    "    print(f\"·x1b: \\n{x1b}\")\n",
    "    print(f\"·x2: \\n{x2}\")\n",
    "    print(f\"·x2b: \\n{x2b}\")\n",
    "    print(f\"·x3: \\n{x3}\")\n",
    "    print(f\"·x3b: \\n{x3b}\\n\")\n",
    "\n",
    "    x1, x2, x3    = np.split(x2D.T, [3, 5], axis=1)\n",
    "    x1b, x2b, x3b = np.hsplit(x2D.T, [3, 5])\n",
    "    print(f\"x1, x2, x3 = np.split(x2D.T, [3, 5], axis=1):\")\n",
    "    print(f\"x1b, x2b, x3b = np.hsplit(x2D.T, [3, 5]):\")\n",
    "    print(f\"·x1: \\n{x1}\")\n",
    "    print(f\"·x1b: \\n{x1b}\")\n",
    "    print(f\"·x2: \\n{x2}\")\n",
    "    print(f\"·x2b: \\n{x2b}\")\n",
    "    print(f\"·x3: \\n{x3}\")\n",
    "    print(f\"·x3b: \\n{x3b}\\n\")\n",
    "\n",
    "    # Similarly, np.dsplit will split arrays along the third axis."
   ]
  },
  {
   "cell_type": "code",
   "execution_count": 13,
   "metadata": {},
   "outputs": [
    {
     "name": "stdout",
     "output_type": "stream",
     "text": [
      "** Boolean Arrays **\n",
      "\n"
     ]
    }
   ],
   "source": [
    "print('** Boolean Arrays **\\n')\n",
    "if 0:\n",
    "    x = np.random.randint(10, size=(3, 4))\n",
    "    print(f'x: \\n{x}\\n')\n",
    "\n",
    "    print(f'x < 6: \\n{x < 6}\\n')\n",
    "    print(f'x[(x<6) & (x>0)]: {x[(x<6) & (x>0)]}\\n') # masking operation\n",
    "    \n",
    "    print(f'np.sum((x < 6) | (x ==7)): {np.sum((x < 6) | (x ==7))}')\n",
    "    print(f'np.sum(x < 6, axis=None): {np.sum(x < 6, axis=None)}  \\t(The default, axis=None, will sum all of the elements of the input array.)')\n",
    "    print(f'np.sum(x < 6, axis= 0): {np.sum(x < 6, axis=0)}  \\t(values lower than 6 in each COLUMN)')\n",
    "    print(f'np.sum(x < 6, axis= 1): {np.sum(x < 6, axis=1)}  \\t(values lower than 6 in each ROW)')\n",
    "    print(f'np.sum(x < 6, axis=-2): {np.sum(x < 6, axis=-2)}  \\t(If axis is negative it counts from the last to the first axis.W)\\n')\n",
    "\n",
    "    print(f'np.any(x > 8): {np.any(x > 8)}')\n",
    "    print(f'np.all(x > 2, axis=0): {np.all(x > 2, axis=0)}\\n')\n",
    "    "
   ]
  },
  {
   "cell_type": "code",
   "execution_count": 14,
   "metadata": {},
   "outputs": [
    {
     "name": "stdout",
     "output_type": "stream",
     "text": [
      "** and/or vs &/| **\n",
      "\n"
     ]
    }
   ],
   "source": [
    "print('** and/or vs &/| **\\n')\n",
    "\"\"\"Summary: on arrays use: &/|\n",
    "In Python, all nonzero integers will evaluate as True.\n",
    "·and/or gauge the truth or falsehood of entire object, while \n",
    "·&/| refer to *bits within each object.\n",
    "\"\"\"\n",
    "if 0: \n",
    "    print(\"'and' or 'or', it's equivalent to asking Python to treat the object as a single Boolean entity.\")\n",
    "    print(f\"bool(42), bool(0): {bool(42), bool(0)}\") # (True, False)\n",
    "    print(f\"bool(42 and 0):    {bool(42 and 0)}\")    # False\n",
    "    print(f\"bool(42 or 0):     {bool(42 or 0)}\")     # True\n",
    "    \n",
    "    print(\"\\nWhen you use '&' and '|' on integers, the expression operates on the bits of the element, applying the\" \\\n",
    "          \"'and' or the 'or' to the individual bits making up the number.\")\n",
    "    print(f\"bin(2):     {bin(2)}\")     # '0b10'\n",
    "    print(f\"bin(2 | 4): {bin(2 | 4)}\") # '0b110'\n",
    "    print(f\"2 | 4:      {2 | 4}\")      # '6'\n",
    "    \n",
    "    print(\"\\nAn array of Boolean values in NumPy can be thought of as a string of bits where 1 = True and 0 = False.\")\n",
    "    A = np.array([1, 0, 1, 0, 1, 0], dtype=bool)\n",
    "    B = np.array([1, 1, 1, 0, 1, 1], dtype=bool)\n",
    "    print(f'A:      {A}')     # [ True False  True False  True False]\n",
    "    print(f'B:      {B}')     # [ True  True  True False  True  True]\n",
    "    print(f'A | B:  {A | B}') # [ True  True  True False  True  True]\n",
    "    print(f\"A or B: \",end='')\n",
    "    try: print(f'A or B: {A or B}')\n",
    "    except Exception as e: print(f'Error: {e}\\n') \n",
    "    # Error: The truth value of an array with more than one element is ambiguous. Use a.any() or a.all()\n",
    "    \n",
    "    print(\"Doing a Boolean expression on a given array, use '|' or '&' rather than 'or' or 'and':\")\n",
    "    x = np.arange(6)  \n",
    "    print(f'x:                   {x}')                 # [0     1     2     3     4      5    ]\n",
    "    print(f'(x > 2) & (x < 5):   {(x > 2) & (x < 5)}') # [False False False True  True   False]\n",
    "    print(f\"(x > 2) and (x < 5): \",end='')\n",
    "    try: print(f'(x > 2) and (x < 5): {(x > 2) and (x < 5)}')\n",
    "    except Exception as e: print(f'Error\": {e}\\n')\n",
    "    # Error: The truth value of an array with more than one element is ambiguous. Use a.any() or a.all()"
   ]
  },
  {
   "cell_type": "code",
   "execution_count": 15,
   "metadata": {},
   "outputs": [
    {
     "name": "stdout",
     "output_type": "stream",
     "text": [
      "** Fancy Indexing **\n",
      "\n"
     ]
    }
   ],
   "source": [
    "print('** Fancy Indexing **\\n')\n",
    "if 0:\n",
    "    print('With fancy indexing, the shape of the result reflects the shape of the index arrays \\\n",
    "    rather than the shape of the array being indexed:\\n')\n",
    "    \n",
    "    x = np.random.randint(100, size=10)\n",
    "    print(f'x: \\n{x}\\n')\n",
    "    ind = np.array([[1, 2],\n",
    "                    [0, 2]])\n",
    "    print(f'ind: \\n{ind}\\n')\n",
    "    print(f'x[ind]: \\n{x[ind]}\\n')\n",
    "    \n",
    "    print('# row-column example')\n",
    "    x = np.random.randint(10, size=(3, 4))\n",
    "    print(f'x: \\n{x}')\n",
    "    row = np.array([0, 1, -1])\n",
    "    col = np.array([2, 1, 3])\n",
    "    ind = tuple([row, col])\n",
    "    print(f'ind: {ind}')\n",
    "    print(f'x[ind]: {x[ind]}')\n",
    "    for k,g in zip(*ind): print(f'\\tx[{k:2d},{g:2d}]:{x[k,g]:2d}')\n",
    "    \n",
    "    print('\\n\\n# More obscure example')\n",
    "    x = np.random.randint(10, size=(3, 4))\n",
    "    print(f'x: \\n{x}\\n')\n",
    "    ind = np.array([[1, 2],\n",
    "                    [0, 2]])\n",
    "    print(f'ind: \\n{ind}\\n')\n",
    "    print(f'x[ind]: \\n{x[ind]}\\n')"
   ]
  },
  {
   "cell_type": "code",
   "execution_count": 16,
   "metadata": {},
   "outputs": [
    {
     "name": "stdout",
     "output_type": "stream",
     "text": [
      "** Modifying Values with Fancy Indexing **\n",
      "\n"
     ]
    }
   ],
   "source": [
    "print('** Modifying Values with Fancy Indexing **\\n')\n",
    "if 0: \n",
    "    print('x[i] = 99 example:')\n",
    "    x = np.arange(10)\n",
    "    print(f'x: {x}')\n",
    "    i = np.array([2, 1, 8, 4])\n",
    "    x[i] = 99\n",
    "    print(f'i: {i}')\n",
    "    print(f'x: {x}\\n') # [ 0 99 99  3 99  5  6  7 99  9]\n",
    "    \n",
    "    print('x[i] *= -1 example:')\n",
    "    x[i] *= -1\n",
    "    print(f'x: {x}\\n') # [  0 -99 -99   3 -99   5   6   7 -99   9]\n",
    "    \n",
    "    print('Unexpected result:')\n",
    "    x = np.zeros(5, dtype='int')\n",
    "    print(f'x: {x}')\n",
    "    print('x[[0, 0]] = [4, 6]')\n",
    "    x[[0, 0]] = [4, 6]\n",
    "    print(f'x: {x}\\n') # [6 0 0 0 0] # Where did the 4 go? The result of this operation is to first assign x[0] = 4, \\\n",
    "    # followed by x[0] = 6. The result, of course, is that x[0] contains the value 6.\n",
    "    \n",
    "    print('Unexpected result:')\n",
    "    print(f'x: {x}')\n",
    "    i = [2, 3, 3, 4, 4, 4]\n",
    "    x[i] += 1\n",
    "    print(f'i: {i}')\n",
    "    print('x[i] += 1')\n",
    "    print(f'x: {x}\\n') # [6 0 1 1 1] # Conceptually, this is because x[i] += 1 is meant as a shorthand of \\\n",
    "    # x[i] = x[i] + 1. So, x[i] + 1 is evaluated, and then the result is assigned to the indices in x. \\\n",
    "    # Therefore, it is not the augmentation that happens multiple times, but the assignment,\\\n",
    "    # which leads to the rather nonintuitive results.\n",
    "    \n",
    "    print('If we want the effect to be repeated: \"at\" method:')\n",
    "    x = np.zeros(5, dtype='int')\n",
    "    print(f'x: {x}')\n",
    "    print(f'i: {i}')\n",
    "    np.add.at(x, i, 1)\n",
    "    print('np.add.at(x, i, 1)')\n",
    "    print(f'x: {x}') # [0 0 1 2 3]"
   ]
  },
  {
   "cell_type": "code",
   "execution_count": 17,
   "metadata": {},
   "outputs": [
    {
     "name": "stdout",
     "output_type": "stream",
     "text": [
      "** broadcasting **\n",
      "\n"
     ]
    }
   ],
   "source": [
    "print('** broadcasting **\\n')\n",
    "if 0:\n",
    "    a = np.arange(3)\n",
    "    b = np.arange(3)[:, np.newaxis]\n",
    "\n",
    "    print(f\"a: {a}\\n\")\n",
    "    print(f\"b: {b}\\n\")\n",
    "\n",
    "    print(f\"a+b:\\n{a+b}\\n\")"
   ]
  },
  {
   "cell_type": "code",
   "execution_count": 18,
   "metadata": {},
   "outputs": [
    {
     "name": "stdout",
     "output_type": "stream",
     "text": [
      "** sort & partition **\n",
      "\n"
     ]
    }
   ],
   "source": [
    "print('** sort & partition **\\n')\n",
    "\n",
    "if 0:\n",
    "    rand = np.random.RandomState(42)\n",
    "    X = rand.randint(0, 10, (4, 6))\n",
    "    print(f\"X: {X}\\n\")\n",
    "    \n",
    "    axis = None # sort all\n",
    "    print(f\"np.sort(X, axis={axis}):\\n {np.sort(X, axis=axis)}\") \n",
    "    print(f\"np.argsort(X, axis={axis}):\\n {np.argsort(X, axis=axis)}\") # indexes of sorted\n",
    "    #print(f\"X.ravel()[np.argsort(X, axis=None)]:\\n{X.ravel()[np.argsort(X, axis=None)]}\")\n",
    "    print(f\"np.allclose(np.sort(X, axis={axis}), X.ravel()[np.argsort(X, axis={axis})]): \\\n",
    "    {np.allclose(np.sort(X, axis=axis), X.ravel()[np.argsort(X, axis=axis)])}\\n\")\n",
    "    \n",
    "    def sortFromArgsort_calculus(x, axis):\n",
    "        m = np.argsort(x, axis=axis)\n",
    "        if axis == 0: m = m.transpose() # so k gets each column\n",
    "        for i,k in enumerate(m): # k gets each row\n",
    "            if axis == 1:\n",
    "                aux = x[i][k][np.newaxis,:]; # print(k, aux)\n",
    "                if i == 0: sortFromArgsort = aux\n",
    "                else: sortFromArgsort = np.r_[sortFromArgsort,aux]; # concatenate\n",
    "            else:\n",
    "                aux = x[:,i][k][:,np.newaxis]; # print(k, aux)\n",
    "                if i == 0: sortFromArgsort = aux\n",
    "                else: sortFromArgsort = np.c_[sortFromArgsort,aux]; # concatenate\n",
    "                #sortFromArgsort = sortFromArgsort.transpose()\n",
    "        return sortFromArgsort;\n",
    "\n",
    "    cmap = 'Blues'\n",
    "    from IPython.display import display_html\n",
    "    for axis in [0,1]:\n",
    "        sortFromArgsort = sortFromArgsort_calculus(X,axis);\n",
    "        df1 = pd.DataFrame(X);\n",
    "        df2 = pd.DataFrame(np.sort(X, axis=axis))\n",
    "        df3 = pd.DataFrame(np.argsort(X, axis=axis))\n",
    "        df4 = pd.DataFrame(sortFromArgsort)\n",
    "        df1_styler = df1.style.set_table_attributes(\"style='display:inline'\").set_caption('X').background_gradient(cmap=cmap,axis=axis)\n",
    "        df2_styler = df2.style.set_table_attributes(\"style='display:inline'\").set_caption(f'np.sort(X, axis={axis})').background_gradient(cmap=cmap,axis=axis)\n",
    "        df3_styler = df3.style.set_table_attributes(\"style='display:inline'\").set_caption(f'np.argsort(X, axis={axis})').background_gradient(cmap=cmap,axis=axis)\n",
    "        df4_styler = df4.style.set_table_attributes(\"style='display:inline'\").set_caption('sortFromArgsort').background_gradient(cmap=cmap,axis=axis)\n",
    "\n",
    "        display_html(df1_styler._repr_html_() + 10*'&nbsp' + df2_styler._repr_html_() + 10*'&nbsp' + \n",
    "                     df4_styler._repr_html_() + 10*'&nbsp' + df3_styler._repr_html_(), raw=True)    \n",
    "        print(f\"np.allclose(np.sort(X, axis={axis}),sortFromArgsort): {np.allclose(np.sort(X, axis=axis),sortFromArgsort)}\\n\") # True\n",
    "    \n",
    "if 0:\n",
    "    x = np.array([9, 7, 3, 0, 2, 8, 7, 7, 8, 9, 9, 8, 10])\n",
    "    print(f\"x: {x}\")\n",
    "    print(f\"np.partition(x, 2): {np.partition(x, 2)}\\n\")\n",
    "    # All elements smaller than the 2nd smallest element are moved before this element and all \n",
    "    # equal or greater are moved behind it. The ordering of the elements in the 2 partitions is undefined.\n",
    "    \n",
    "    print(f\"np.partition(X, 2, axis=1):\\n {np.partition(X, 2, axis=1)}\") # np.partition sorting each row of X\n",
    "    print(f\"np.argpartition(X, 2, axis=1):\\n {np.argpartition(X, 2, axis=1)}\") # indexes of partition\n",
    "    for k in range(X.shape[0]): # for each row\n",
    "        aux = np.argpartition(X, 2, axis=1)[k]\n",
    "        print(np.allclose(np.partition(X, 2, axis=1)[k], X[k,aux])) # True # just to check that 'argpartition' works\n"
   ]
  },
  {
   "cell_type": "code",
   "execution_count": 20,
   "metadata": {},
   "outputs": [
    {
     "name": "stdout",
     "output_type": "stream",
     "text": [
      "** linear equations **\n",
      "\n",
      "True\n"
     ]
    }
   ],
   "source": [
    "print('** linear equations **\\n')\n",
    "\n",
    "'''\n",
    "Solve the system of equations:\n",
    "    3 * x0 + 1 * x1 = 9 \n",
    "    1 * x0 + 2 * x1 = 8\n",
    "In matrix notation A*x = y, with:\n",
    "    A = [[3,1], [1,2]]\n",
    "    x = [[x0], [x1]]\n",
    "    y = [[9], [8]]\n",
    "Though, normally it is A * trasp(x) = trasp(y), with\n",
    "    A = [[3,1], [1,2]]\n",
    "    x = [x0, x1]\n",
    "    y = [9, 8]\n",
    "'''\n",
    "\n",
    "# Solve: a * trasp(x) = trasp(b)\n",
    "a = np.array([[3,1], [1,2]])\n",
    "b = np.array([9,8])\n",
    "x = np.linalg.solve(a, b) # array([ 2.,  3.])\n",
    "\n",
    "# Check that the solution is correct:\n",
    "print( np.allclose(np.dot(a, x), b) ) # True"
   ]
  },
  {
   "cell_type": "code",
   "execution_count": 21,
   "metadata": {},
   "outputs": [
    {
     "name": "stdout",
     "output_type": "stream",
     "text": [
      "** NumPy's Structured Arrays **\n",
      "\n"
     ]
    }
   ],
   "source": [
    "print(\"** NumPy's Structured Arrays **\\n\")\n",
    "if 0:    \n",
    "    name = ['Alice', 'Bob', 'Cathy', 'Doug']\n",
    "    age = [25, 45, 37, 19]\n",
    "    weight = [55.0, 85.5, 68.0, 61.5]\n",
    "    str = \"x = np.zeros(4, dtype={'names':('name', 'age', 'weight'), 'formats':('U10', 'i4', 'f8')})\"\n",
    "    exec(str)\n",
    "    print(f'name:   {name}')\n",
    "    print(f'age:    {age}')\n",
    "    print(f'weight: {weight}')\n",
    "    print('\\nCommand:',str)\n",
    "    print(f'x: {x}\\n')\n",
    "    \n",
    "    x['name']   = name\n",
    "    x['age']    = age\n",
    "    x['weight'] = weight\n",
    "    \n",
    "    print(f\"x['name']: {x['name']}\")\n",
    "    print(f\"x[0]: {x[0]}\")\n",
    "    print(f\"x[-1]['weight']: {x[-1]['weight']}\")\n",
    "    # print(f\"x[0,0]: {x[0,0]}\") # error\n",
    "    print(f\"x[-1][-1]:       {x[-1][-1]}\")\n",
    "    # print(f\"x.loc[0][0]: {x.loc[0][0]}\") # error\n",
    "    print(f\"x[x['age'] < 30]['name']: {x[x['age'] < 30]['name']}\")\n",
    "    \n",
    "    print('''\\nNumerical types can be specified using:\n",
    "    ·Python types\\tE.g. 'formats':('U10', 'i4', 'f8') or,\n",
    "    ·NumPy dtypes\\tE.g. 'formats':((np.str_, 10), int, np.float32)''')\n",
    "    print(\"A compound type can also be specified as a list of tuples:\\n\\\n",
    "    f = np.dtype([('name', 'S10'), ('age', 'i4'), ('weight', 'f8')]); \\n\\tx = np.zeros(4, dtype=f)\")\n",
    "    print(\"\\tx['name']   = name;\\n\\tx['age']    = age\\n\\tx['weight'] = weight\")\n",
    "    f = np.dtype([('name', 'S10'), ('age', 'i4'), ('weight', 'f8')])\n",
    "    x = np.zeros(4, dtype=f)\n",
    "    x['name']   = name\n",
    "    x['age']    = age\n",
    "    x['weight'] = weight\n",
    "    print(f'f: {f}')\n",
    "    print(f'x: {x}\\n')\n",
    "    \n",
    "    print(\"If the names of the types do not matter to you, specify the types alone in a comma-separated string:\\n\\\n",
    "    f = np.dtype('S10,i4,f8')\")\n",
    "    f = np.dtype('S10,i4,f8')\n",
    "    print(f'f: {f}\\n')"
   ]
  },
  {
   "cell_type": "markdown",
   "metadata": {},
   "source": [
    "The shortened string format codes may seem confusing, but they are built on simple principles.\n",
    "The first (optional) character is ``<`` or ``>``, which means [\"little endian\" or \"big endian\"](https://chortle.ccsu.edu/AssemblyTutorial/Chapter-15/ass15_3.html), respectively, and specifies the ordering convention for significant bits.\n",
    "The next character specifies the type of data: characters, bytes, ints, floating points, and so on (see the table below).\n",
    "The last character or characters represents the size of the object in bytes.\n",
    "\n",
    "| Character        | Description           | Example                             |\n",
    "| ---------        | -----------           | -------                             | \n",
    "| ``'b'``          | Byte                  | ``np.dtype('b')``                   |\n",
    "| ``'i'``          | Signed integer        | ``np.dtype('i4') == np.int32``      |\n",
    "| ``'u'``          | Unsigned integer      | ``np.dtype('u1') == np.uint8``      |\n",
    "| ``'f'``          | Floating point        | ``np.dtype('f8') == np.int64``      |\n",
    "| ``'c'``          | Complex floating point| ``np.dtype('c16') == np.complex128``|\n",
    "| ``'S'``, ``'a'`` | String                | ``np.dtype('S5')``                  |\n",
    "| ``'U'``          | Unicode string        | ``np.dtype('U') == np.str_``        |\n",
    "| ``'V'``          | Raw data (void)       | ``np.dtype('V') == np.void``        |"
   ]
  },
  {
   "cell_type": "code",
   "execution_count": 22,
   "metadata": {},
   "outputs": [
    {
     "name": "stdout",
     "output_type": "stream",
     "text": [
      "** ndarray to hashable **\n",
      "\n"
     ]
    }
   ],
   "source": [
    "print('** ndarray to hashable **\\n')\n",
    "# unhashable type: 'numpy.ndarray'\n",
    "def totuple(a):\n",
    "    try:\n",
    "        return tuple(totuple(i) for i in a)\n",
    "    except TypeError:\n",
    "        return a\n",
    "if 0: # row # https://stackoverflow.com/questions/10016352/convert-numpy-array-to-tuple/18188404#18188404\n",
    "    a = np.array([[1,2,3],[4,5,6]])\n",
    "    x = tuple(a.reshape(1, -1)[0]) \n",
    "    print(f\"a: \\n{a}\")\n",
    "    # array([[1, 2, 3],\n",
    "    #       [4, 5, 6]])\n",
    "    print(f\"x: \\n{x}\\n\")\n",
    "    # (1, 2, 3, 4, 5, 6)\n",
    "\n",
    "    import collections\n",
    "    print(f\"is 'a' hashable?: {isinstance(a, collections.Hashable)}\") # False\n",
    "    print(f\"is 'x' hashable?: {isinstance(x, collections.Hashable)}\") # True\n",
    "if 0: # matrix # https://stackoverflow.com/questions/10016352/convert-numpy-array-to-tuple/10016613#10016613\n",
    "    a = np.array(((2,2),(2,-2)))\n",
    "    x = totuple(a)\n",
    "    print(f\"a: \\n{a}\")\n",
    "    # array([[ 2  2],\n",
    "    #       [ 2 - 2]])\n",
    "    print(f\"x: \\n{x}\\n\")\n",
    "    # ((2, 2), (2, -2))\n",
    "    \n",
    "    import collections\n",
    "    print(f\"is 'a' hashable?: {isinstance(a, collections.Hashable)}\") # False\n",
    "    print(f\"is 'x' hashable?: {isinstance(x, collections.Hashable)}\") # True"
   ]
  },
  {
   "cell_type": "code",
   "execution_count": 23,
   "metadata": {},
   "outputs": [
    {
     "name": "stdout",
     "output_type": "stream",
     "text": [
      "** Specifying output **\n",
      "\n"
     ]
    }
   ],
   "source": [
    "print('** Specifying output **\\n')\n",
    "'''For large calculations, specify the array where the result of the calculation will be stored. \n",
    "Rather than creating a temporary array, this can be used to write computation results directly to the memory location\n",
    "where you'd like them to be. For all ufuncs, this can be done using the out argument of the function:'''\n",
    "if 0:\n",
    "    x = np.arange(5)\n",
    "    y = np.empty(5)\n",
    "    np.multiply(x, 10, out=y)\n",
    "    print(\"np.multiply(x, 10, out=y): \",y)\n",
    "    \n",
    "    y = np.zeros(10)\n",
    "    np.power(2, x, out=y[::2])\n",
    "    print(\"np.power(2, x, out=y[::2]): \", y)\n",
    "    '''If we had instead written ``y[::2] = 2 ** x``, this would have resulted in the creation of a temporary array \n",
    "    to hold the results of ``2 ** x``, followed by a second operation copying those values into the ``y`` array.!!! '''"
   ]
  },
  {
   "cell_type": "code",
   "execution_count": 24,
   "metadata": {
    "scrolled": true
   },
   "outputs": [
    {
     "name": "stdout",
     "output_type": "stream",
     "text": [
      "** reduce & accumulate **\n",
      "\n"
     ]
    }
   ],
   "source": [
    "print('** reduce & accumulate **\\n')\n",
    "if 0:\n",
    "    x = np.arange(1, 6)\n",
    "    print(f'x:                     {x}') # [1 2 3 4 5]\n",
    "    print(f'np.add.reduce(x) :     {np.add.reduce(x)}') # 15\n",
    "    print(f'np.sum(x) :            {np.sum(x)}')        # 15 # np.add.reduce is the same as np.sum(x) \n",
    "    print(f'np.add.accumulate(x) : {np.add.accumulate(x)}') # [ 1  3  6 10 15] # to store all the intermediate results\n",
    "    \n",
    "    print(f'np.multiply.reduce(x) : {np.multiply.reduce(x)}\\n') # 120\n",
    "    \n",
    "    try: print(f'np.ceil.accumulate(x) : {np.ceil.accumulate(x)}')\n",
    "    except Exception as e: print(f'Error: {e}\\n') \n",
    "    # Error: accumulate only supported for binary functions\n",
    "    \n",
    "    lambdafcn = lambda x : x + 10\n",
    "    try: print(f'np.lambdafcn.reduce(x) : {np.lambdafcn.reduce(x)}')\n",
    "    except Exception as e: print(f'Error: {e}\\n') \n",
    "    # Error: module 'numpy' has no attribute 'lambdafcn'"
   ]
  }
 ],
 "metadata": {
  "anaconda-cloud": {},
  "kernelspec": {
   "display_name": "Python 3",
   "language": "python",
   "name": "python3"
  },
  "language_info": {
   "codemirror_mode": {
    "name": "ipython",
    "version": 3
   },
   "file_extension": ".py",
   "mimetype": "text/x-python",
   "name": "python",
   "nbconvert_exporter": "python",
   "pygments_lexer": "ipython3",
   "version": "3.6.8"
  }
 },
 "nbformat": 4,
 "nbformat_minor": 1
}
